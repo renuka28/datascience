{
 "cells": [
  {
   "cell_type": "markdown",
   "metadata": {},
   "source": [
    "# Mobile app for Lottery addicts\n",
    "\n",
    "In this project, we are going work as part of a group of engineers who will be building a mobile app for estimating odds of winning a lottery. We will focus on [6/49 lottery](https://en.wikipedia.org/wiki/Lotto_6/49). The app is aimed to provide esimates on chances of winning a lottery so that people make an informed decision. Teh app will also help to de-addict compulsive addicts\n",
    "\n",
    "A medical institute that aims to prevent and treat gambling addictions wants to build a dedicated mobile app to help lottery addicts better estimate their chances of winning. The institute has a team of engineers that will build the app, but they need us to create the logical core of the app and calculate probabilities.\n",
    "\n",
    "For the first version of the app, they want us to focus on the [6/49 lottery]((https://en.wikipedia.org/wiki/Lotto_6/49)  and build functions that enable users to answer questions like:\n",
    "\n",
    "   - What is the probability of winning the big prize with a single ticket?\n",
    "   - What is the probability of winning the big prize if we play 40 different tickets (or any other number)?\n",
    "   - What is the probability of having at least five (or four, or three, or two) winning numbers on a single ticket?\n",
    "   \n",
    "The institute also wants us to consider historical data coming from the national 6/49 lottery game in Canada. [The data set](https://www.kaggle.com/datascienceai/lottery-dataset) has data for 3,665 drawings, dating from 1982 to 2018.\n",
    "\n",
    "The scenario we're following throughout this project is fictional\n",
    "\n",
    "## Core functions\n",
    "\n",
    "In this section we will develop few functions which will be used frequently in the following section. Currently we have two such functions\n",
    "\n",
    "   - `factorial()` — a function that calculates factorials\n",
    "   - `combinations()` — a function that calculates combinations\n",
    "\n",
    "We will also define `ticket_price` variable which will be set to $2, which is the current price of a lottery ticket. This will be used to display potential amount spent buying lottery tickets"
   ]
  },
  {
   "cell_type": "code",
   "execution_count": 1,
   "metadata": {
    "collapsed": true
   },
   "outputs": [],
   "source": [
    "def factorial(n):\n",
    "    fact = 1\n",
    "    for i in range(n, 0, -1):\n",
    "        fact *= i\n",
    "    return fact\n",
    "\n",
    "def combinations(n, k):\n",
    "    numerator = factorial(n)\n",
    "    denominator = factorial(k) * factorial(n-k)\n",
    "    return numerator/denominator\n",
    "\n",
    "ticket_price = 2"
   ]
  },
  {
   "cell_type": "markdown",
   "metadata": {},
   "source": [
    "## One ticket probabilty \n",
    "\n",
    "In the 6/49 lottery, six numbers are drawn from a set of 49 numbers that range from 1 to 49. A player wins the big prize if the six numbers on their tickets match all the six numbers drawn. If a player has a ticket with the numbers {13, 22, 24, 27, 42, 44}, he only wins the big prize if the numbers drawn are {13, 22, 24, 27, 42, 44}. If only one number differs, he doesn't win. More information regarding the lottery operations can be found [here](https://en.wikipedia.org/wiki/Lotto_6/49) \n",
    "\n",
    "For the first version of the app, we want players to be able to calculate the probability of winning the big prize with the various numbers they play on a single ticket (for each ticket a player chooses six numbers out of 49). So, we'll start by building a function that calculates the probability of winning the big prize for any given ticket\n",
    "\n",
    "We discussed with the engineering team of the medical institute, and they told us we need to be aware of the following details when we write the function:\n",
    "\n",
    "   - Inside the app, the user inputs six different numbers from 1 to 49.\n",
    "   - Under the hood, the six numbers will come as a Python list, which will serve as the single input to our function.\n",
    "   - The engineering team wants the function to print the probability value in a friendly way — in a way that people without any probability training are able to understand.\n",
    "   \n",
    "lets take stab at writing this function. Our fucntion will take a list of unique numbers and calculate the probablity. we can calculate the probability by dividing 1 by sum of unique combinations of 6 numbers out of 49 numbers "
   ]
  },
  {
   "cell_type": "code",
   "execution_count": 2,
   "metadata": {
    "collapsed": true
   },
   "outputs": [],
   "source": [
    "def one_ticket_probability(user_numbers):\n",
    "    #ensure we have unique numbers\n",
    "    if(len(set(user_numbers)) == 6):\n",
    "        n_combinations = combinations(49, 6)\n",
    "        probability_one_ticket = 1/n_combinations\n",
    "        percentage_form = probability_one_ticket * 100\n",
    "\n",
    "        print('''Your chances to win the big prize with the numbers {} are {:.7f}%.\n",
    "    In other words, you have a 1 in {:,} chances to win.'''.format(user_numbers,\n",
    "                        percentage_form, int(n_combinations)))\n",
    "    else:\n",
    "        print(\"numbers are not unique. Please provide six unique numbers ranging from 1 to 49\")\n",
    "        "
   ]
  },
  {
   "cell_type": "markdown",
   "metadata": {},
   "source": [
    "Let's test the above function with the following list of numbers\n",
    "\n",
    "   - test input = [2, 43, 22, 23, 11, 5]\n",
    "   - test input = [22, 11, 21, 33, 12, 6]\n",
    "   - test input = [32, 46, 29, 22, 11, 15]\n",
    "   - test input = [42, 45, 32, 23, 12, 15]\n",
    "   - test input = [42, 45, 32, 23, 12, 12]"
   ]
  },
  {
   "cell_type": "code",
   "execution_count": 3,
   "metadata": {
    "collapsed": false
   },
   "outputs": [
    {
     "name": "stdout",
     "output_type": "stream",
     "text": [
      "Your chances to win the big prize with the numbers [2, 43, 22, 23, 11, 5] are 0.0000072%.\n",
      "    In other words, you have a 1 in 13,983,816 chances to win.\n",
      "\n",
      "Your chances to win the big prize with the numbers [22, 11, 21, 33, 12, 6] are 0.0000072%.\n",
      "    In other words, you have a 1 in 13,983,816 chances to win.\n",
      "\n",
      "Your chances to win the big prize with the numbers [32, 46, 29, 22, 11, 15] are 0.0000072%.\n",
      "    In other words, you have a 1 in 13,983,816 chances to win.\n",
      "\n",
      "Your chances to win the big prize with the numbers [42, 45, 32, 23, 12, 15] are 0.0000072%.\n",
      "    In other words, you have a 1 in 13,983,816 chances to win.\n",
      "\n",
      "numbers are not unique. Please provide six unique numbers ranging from 1 to 49\n",
      "\n"
     ]
    }
   ],
   "source": [
    "test_input = [2, 43, 22, 23, 11, 5]\n",
    "one_ticket_probability(test_input)\n",
    "print()\n",
    "\n",
    "test_input = [22, 11, 21, 33, 12, 6]\n",
    "one_ticket_probability(test_input)\n",
    "print()\n",
    "\n",
    "test_input = [32, 46, 29, 22, 11, 15]\n",
    "one_ticket_probability(test_input)\n",
    "print()\n",
    "\n",
    "test_input = [42, 45, 32, 23, 12, 15]\n",
    "one_ticket_probability(test_input)\n",
    "print()\n",
    "\n",
    "test_input = [42, 45, 32, 23, 12, 12]\n",
    "one_ticket_probability(test_input)\n",
    "print()\n"
   ]
  },
  {
   "cell_type": "markdown",
   "metadata": {},
   "source": [
    "As can be seen above irrespective of what combinations users choose the odds of winning the lottery are very small, 1 in 13,983,816\n",
    "\n",
    "## Historical Data Check for Canada Lottery\n",
    "\n",
    "The institute also wants us to consider the data coming from the national 6/49 lottery game in Canada. The data set contains historical data for 3,665 drawings, dating from 1982 to 2018 which can be downloaded [here](https://www.kaggle.com/datascienceai/lottery-dataset). we have downloaded the data and saved in a csv file \"649.csv\". Lets load the file and do data exploration\n"
   ]
  },
  {
   "cell_type": "code",
   "execution_count": 4,
   "metadata": {
    "collapsed": false
   },
   "outputs": [
    {
     "data": {
      "text/plain": [
       "(3665, 11)"
      ]
     },
     "execution_count": 4,
     "metadata": {},
     "output_type": "execute_result"
    }
   ],
   "source": [
    "import pandas as pd\n",
    "\n",
    "lottery_canada = pd.read_csv('649.csv')\n",
    "lottery_canada.shape"
   ]
  },
  {
   "cell_type": "code",
   "execution_count": 5,
   "metadata": {
    "collapsed": false
   },
   "outputs": [
    {
     "data": {
      "text/html": [
       "<div>\n",
       "<style scoped>\n",
       "    .dataframe tbody tr th:only-of-type {\n",
       "        vertical-align: middle;\n",
       "    }\n",
       "\n",
       "    .dataframe tbody tr th {\n",
       "        vertical-align: top;\n",
       "    }\n",
       "\n",
       "    .dataframe thead th {\n",
       "        text-align: right;\n",
       "    }\n",
       "</style>\n",
       "<table border=\"1\" class=\"dataframe\">\n",
       "  <thead>\n",
       "    <tr style=\"text-align: right;\">\n",
       "      <th></th>\n",
       "      <th>PRODUCT</th>\n",
       "      <th>DRAW NUMBER</th>\n",
       "      <th>SEQUENCE NUMBER</th>\n",
       "      <th>DRAW DATE</th>\n",
       "      <th>NUMBER DRAWN 1</th>\n",
       "      <th>NUMBER DRAWN 2</th>\n",
       "      <th>NUMBER DRAWN 3</th>\n",
       "      <th>NUMBER DRAWN 4</th>\n",
       "      <th>NUMBER DRAWN 5</th>\n",
       "      <th>NUMBER DRAWN 6</th>\n",
       "      <th>BONUS NUMBER</th>\n",
       "    </tr>\n",
       "  </thead>\n",
       "  <tbody>\n",
       "    <tr>\n",
       "      <th>0</th>\n",
       "      <td>649</td>\n",
       "      <td>1</td>\n",
       "      <td>0</td>\n",
       "      <td>6/12/1982</td>\n",
       "      <td>3</td>\n",
       "      <td>11</td>\n",
       "      <td>12</td>\n",
       "      <td>14</td>\n",
       "      <td>41</td>\n",
       "      <td>43</td>\n",
       "      <td>13</td>\n",
       "    </tr>\n",
       "    <tr>\n",
       "      <th>1</th>\n",
       "      <td>649</td>\n",
       "      <td>2</td>\n",
       "      <td>0</td>\n",
       "      <td>6/19/1982</td>\n",
       "      <td>8</td>\n",
       "      <td>33</td>\n",
       "      <td>36</td>\n",
       "      <td>37</td>\n",
       "      <td>39</td>\n",
       "      <td>41</td>\n",
       "      <td>9</td>\n",
       "    </tr>\n",
       "    <tr>\n",
       "      <th>2</th>\n",
       "      <td>649</td>\n",
       "      <td>3</td>\n",
       "      <td>0</td>\n",
       "      <td>6/26/1982</td>\n",
       "      <td>1</td>\n",
       "      <td>6</td>\n",
       "      <td>23</td>\n",
       "      <td>24</td>\n",
       "      <td>27</td>\n",
       "      <td>39</td>\n",
       "      <td>34</td>\n",
       "    </tr>\n",
       "    <tr>\n",
       "      <th>3</th>\n",
       "      <td>649</td>\n",
       "      <td>4</td>\n",
       "      <td>0</td>\n",
       "      <td>7/3/1982</td>\n",
       "      <td>3</td>\n",
       "      <td>9</td>\n",
       "      <td>10</td>\n",
       "      <td>13</td>\n",
       "      <td>20</td>\n",
       "      <td>43</td>\n",
       "      <td>34</td>\n",
       "    </tr>\n",
       "    <tr>\n",
       "      <th>4</th>\n",
       "      <td>649</td>\n",
       "      <td>5</td>\n",
       "      <td>0</td>\n",
       "      <td>7/10/1982</td>\n",
       "      <td>5</td>\n",
       "      <td>14</td>\n",
       "      <td>21</td>\n",
       "      <td>31</td>\n",
       "      <td>34</td>\n",
       "      <td>47</td>\n",
       "      <td>45</td>\n",
       "    </tr>\n",
       "  </tbody>\n",
       "</table>\n",
       "</div>"
      ],
      "text/plain": [
       "   PRODUCT  DRAW NUMBER  SEQUENCE NUMBER  DRAW DATE  NUMBER DRAWN 1  \\\n",
       "0      649            1                0  6/12/1982               3   \n",
       "1      649            2                0  6/19/1982               8   \n",
       "2      649            3                0  6/26/1982               1   \n",
       "3      649            4                0   7/3/1982               3   \n",
       "4      649            5                0  7/10/1982               5   \n",
       "\n",
       "   NUMBER DRAWN 2  NUMBER DRAWN 3  NUMBER DRAWN 4  NUMBER DRAWN 5  \\\n",
       "0              11              12              14              41   \n",
       "1              33              36              37              39   \n",
       "2               6              23              24              27   \n",
       "3               9              10              13              20   \n",
       "4              14              21              31              34   \n",
       "\n",
       "   NUMBER DRAWN 6  BONUS NUMBER  \n",
       "0              43            13  \n",
       "1              41             9  \n",
       "2              39            34  \n",
       "3              43            34  \n",
       "4              47            45  "
      ]
     },
     "execution_count": 5,
     "metadata": {},
     "output_type": "execute_result"
    }
   ],
   "source": [
    "lottery_canada.head()"
   ]
  },
  {
   "cell_type": "code",
   "execution_count": 6,
   "metadata": {
    "collapsed": false
   },
   "outputs": [
    {
     "data": {
      "text/html": [
       "<div>\n",
       "<style scoped>\n",
       "    .dataframe tbody tr th:only-of-type {\n",
       "        vertical-align: middle;\n",
       "    }\n",
       "\n",
       "    .dataframe tbody tr th {\n",
       "        vertical-align: top;\n",
       "    }\n",
       "\n",
       "    .dataframe thead th {\n",
       "        text-align: right;\n",
       "    }\n",
       "</style>\n",
       "<table border=\"1\" class=\"dataframe\">\n",
       "  <thead>\n",
       "    <tr style=\"text-align: right;\">\n",
       "      <th></th>\n",
       "      <th>PRODUCT</th>\n",
       "      <th>DRAW NUMBER</th>\n",
       "      <th>SEQUENCE NUMBER</th>\n",
       "      <th>DRAW DATE</th>\n",
       "      <th>NUMBER DRAWN 1</th>\n",
       "      <th>NUMBER DRAWN 2</th>\n",
       "      <th>NUMBER DRAWN 3</th>\n",
       "      <th>NUMBER DRAWN 4</th>\n",
       "      <th>NUMBER DRAWN 5</th>\n",
       "      <th>NUMBER DRAWN 6</th>\n",
       "      <th>BONUS NUMBER</th>\n",
       "    </tr>\n",
       "  </thead>\n",
       "  <tbody>\n",
       "    <tr>\n",
       "      <th>3660</th>\n",
       "      <td>649</td>\n",
       "      <td>3587</td>\n",
       "      <td>0</td>\n",
       "      <td>6/6/2018</td>\n",
       "      <td>10</td>\n",
       "      <td>15</td>\n",
       "      <td>23</td>\n",
       "      <td>38</td>\n",
       "      <td>40</td>\n",
       "      <td>41</td>\n",
       "      <td>35</td>\n",
       "    </tr>\n",
       "    <tr>\n",
       "      <th>3661</th>\n",
       "      <td>649</td>\n",
       "      <td>3588</td>\n",
       "      <td>0</td>\n",
       "      <td>6/9/2018</td>\n",
       "      <td>19</td>\n",
       "      <td>25</td>\n",
       "      <td>31</td>\n",
       "      <td>36</td>\n",
       "      <td>46</td>\n",
       "      <td>47</td>\n",
       "      <td>26</td>\n",
       "    </tr>\n",
       "    <tr>\n",
       "      <th>3662</th>\n",
       "      <td>649</td>\n",
       "      <td>3589</td>\n",
       "      <td>0</td>\n",
       "      <td>6/13/2018</td>\n",
       "      <td>6</td>\n",
       "      <td>22</td>\n",
       "      <td>24</td>\n",
       "      <td>31</td>\n",
       "      <td>32</td>\n",
       "      <td>34</td>\n",
       "      <td>16</td>\n",
       "    </tr>\n",
       "    <tr>\n",
       "      <th>3663</th>\n",
       "      <td>649</td>\n",
       "      <td>3590</td>\n",
       "      <td>0</td>\n",
       "      <td>6/16/2018</td>\n",
       "      <td>2</td>\n",
       "      <td>15</td>\n",
       "      <td>21</td>\n",
       "      <td>31</td>\n",
       "      <td>38</td>\n",
       "      <td>49</td>\n",
       "      <td>8</td>\n",
       "    </tr>\n",
       "    <tr>\n",
       "      <th>3664</th>\n",
       "      <td>649</td>\n",
       "      <td>3591</td>\n",
       "      <td>0</td>\n",
       "      <td>6/20/2018</td>\n",
       "      <td>14</td>\n",
       "      <td>24</td>\n",
       "      <td>31</td>\n",
       "      <td>35</td>\n",
       "      <td>37</td>\n",
       "      <td>48</td>\n",
       "      <td>17</td>\n",
       "    </tr>\n",
       "  </tbody>\n",
       "</table>\n",
       "</div>"
      ],
      "text/plain": [
       "      PRODUCT  DRAW NUMBER  SEQUENCE NUMBER  DRAW DATE  NUMBER DRAWN 1  \\\n",
       "3660      649         3587                0   6/6/2018              10   \n",
       "3661      649         3588                0   6/9/2018              19   \n",
       "3662      649         3589                0  6/13/2018               6   \n",
       "3663      649         3590                0  6/16/2018               2   \n",
       "3664      649         3591                0  6/20/2018              14   \n",
       "\n",
       "      NUMBER DRAWN 2  NUMBER DRAWN 3  NUMBER DRAWN 4  NUMBER DRAWN 5  \\\n",
       "3660              15              23              38              40   \n",
       "3661              25              31              36              46   \n",
       "3662              22              24              31              32   \n",
       "3663              15              21              31              38   \n",
       "3664              24              31              35              37   \n",
       "\n",
       "      NUMBER DRAWN 6  BONUS NUMBER  \n",
       "3660              41            35  \n",
       "3661              47            26  \n",
       "3662              34            16  \n",
       "3663              49             8  \n",
       "3664              48            17  "
      ]
     },
     "execution_count": 6,
     "metadata": {},
     "output_type": "execute_result"
    }
   ],
   "source": [
    "lottery_canada.tail()"
   ]
  },
  {
   "cell_type": "markdown",
   "metadata": {},
   "source": [
    "For each drawing, starting from 1982 to 2018, we can find the six drawn numbers in the following six columns\n",
    "\n",
    "   - NUMBER DRAWN 1\n",
    "   - NUMBER DRAWN 2\n",
    "   - NUMBER DRAWN 3\n",
    "   - NUMBER DRAWN 4\n",
    "   - NUMBER DRAWN 5\n",
    "   - NUMBER DRAWN 6"
   ]
  },
  {
   "cell_type": "markdown",
   "metadata": {},
   "source": [
    "## developing function for historical data check\n",
    "\n",
    "we're going to write a function that will enable users to compare their ticket against the historical lottery data in Canada and determine whether they would have ever won by now.\n",
    "\n",
    "The engineering team told us that we need to be aware of the following details:\n",
    "\n",
    "  - Inside the app, the user inputs six different numbers from 1 to 49.\n",
    "  - Under the hood, the six numbers will come as a Python list and serve as an input to our function.\n",
    "  - The engineering team wants us to write a function that prints:\n",
    "     - the number of times the combination selected occurred in the Canada data set; and\n",
    "     - the probability of winning the big prize in the next drawing with that combination\n",
    "     \n",
    "lets start off by extracting winning number combinations from the above columns. we can have a simple lambda expression to extract the values and covert them to python set containing all the six values"
   ]
  },
  {
   "cell_type": "code",
   "execution_count": 7,
   "metadata": {
    "collapsed": false
   },
   "outputs": [
    {
     "data": {
      "text/plain": [
       "0    {3, 41, 11, 12, 43, 14}\n",
       "1    {33, 36, 37, 39, 8, 41}\n",
       "2     {1, 6, 39, 23, 24, 27}\n",
       "3     {3, 9, 10, 43, 13, 20}\n",
       "4    {34, 5, 14, 47, 21, 31}\n",
       "dtype: object"
      ]
     },
     "execution_count": 7,
     "metadata": {},
     "output_type": "execute_result"
    }
   ],
   "source": [
    "winning_numbers = lottery_canada.apply(lambda row:set(row[4:10].values) , axis=1)\n",
    "winning_numbers.head()"
   ]
  },
  {
   "cell_type": "markdown",
   "metadata": {},
   "source": [
    "Now that we have past winning numbers, we can check if the number combination entered by the user has ever occured before. \n",
    "\n",
    "Our function `check_historical_occurrence(user_number, historicals_numbers)` will check user_number against the historical numbers and print message indicating the number of times the user_number was a winning combination in the past"
   ]
  },
  {
   "cell_type": "code",
   "execution_count": 8,
   "metadata": {
    "collapsed": true
   },
   "outputs": [],
   "source": [
    "def check_historical_occurrence(user_numbers, historical_numbers):   \n",
    "    '''\n",
    "    check if a given user lottery number has ever been a winning combination\n",
    "    in the past\n",
    "    \n",
    "    Args:\n",
    "        user_numbers (list): a Python list containing six unique user \n",
    "        selected numbers\n",
    "        historical numbers (a pandas Series) contains all the historial \n",
    "    winning combinations\n",
    "    '''\n",
    "    \n",
    "    user_numbers_set = set(user_numbers)\n",
    "    n_occurrences = (historical_numbers == user_numbers_set).sum()\n",
    "    if n_occurrences == 0:\n",
    "        print(\"The combination {} has never occured.\".format(user_numbers))\n",
    "        \n",
    "    else:\n",
    "        print(\"Your combination {} has occured in the past {} times.\".format(user_numbers, n_occurrences,\n",
    "                                                                            user_numbers))\n",
    "    print(\"\"\"\\nREMEMBER - Irrespective of whether your number was a winning combination in the past or not, your chances to win the big prize in the next drawing using the combination {} are 0.0000072%. In other words, you have a 1 in 13,983,816 chances to win.\\n\n",
    "**** Past performance has no influence on your current chances,\n",
    "which by the way are very low ****\"\"\".format(user_numbers))\n",
    "    "
   ]
  },
  {
   "cell_type": "code",
   "execution_count": 9,
   "metadata": {
    "collapsed": false
   },
   "outputs": [
    {
     "name": "stdout",
     "output_type": "stream",
     "text": [
      "Your combination [33, 36, 37, 39, 8, 41] has occured in the past 1 times.\n",
      "\n",
      "REMEMBER - Irrespective of whether your number was a winning combination in the past or not, your chances to win the big prize in the next drawing using the combination [33, 36, 37, 39, 8, 41] are 0.0000072%. In other words, you have a 1 in 13,983,816 chances to win.\n",
      "\n",
      "**** Past performance has no influence on your current chances,\n",
      "which by the way are very low ****\n"
     ]
    }
   ],
   "source": [
    "test_input_3 = [33, 36, 37, 39, 8, 41]\n",
    "check_historical_occurrence(test_input_3, winning_numbers)"
   ]
  },
  {
   "cell_type": "code",
   "execution_count": 10,
   "metadata": {
    "collapsed": false
   },
   "outputs": [
    {
     "name": "stdout",
     "output_type": "stream",
     "text": [
      "The combination [3, 2, 44, 22, 1, 44] has never occured.\n",
      "\n",
      "REMEMBER - Irrespective of whether your number was a winning combination in the past or not, your chances to win the big prize in the next drawing using the combination [3, 2, 44, 22, 1, 44] are 0.0000072%. In other words, you have a 1 in 13,983,816 chances to win.\n",
      "\n",
      "**** Past performance has no influence on your current chances,\n",
      "which by the way are very low ****\n"
     ]
    }
   ],
   "source": [
    "test_input_4 = [3, 2, 44, 22, 1, 44]\n",
    "check_historical_occurrence(test_input_4, winning_numbers)"
   ]
  },
  {
   "cell_type": "markdown",
   "metadata": {},
   "source": [
    "## Multi-ticket Probability¶\n",
    "\n",
    "\n",
    "So far, we wrote two functions:\n",
    "\n",
    "   - `one_ticket_probability()` — calculates the probability of winning the big prize with a single ticket\n",
    "   - `check_historical_occurrence()` — checks whether a certain combination has occurred in the Canada lottery data set\n",
    "   \n",
    "Medical institute, which is sponsoring this app, is well ware that the lottery addicts usually play more than one ticket on a single drawing, thinking that this might increase their chances of winning significantly. Our purpose is to help them better estimate their chances of winning. To help them better estimate their chances we will be writing a function that will allow the users to calculate the chances of winning for any number of different tickets.\n",
    "\n",
    "our discussions with the engineering team and medical institute has resulted in the following requirements\n",
    "\n",
    "   - The user will input the number of different tickets they want to play (without inputting the specific combinations they intend to play).\n",
    "   - Our function will see an integer between 1 and 13,983,816 (the maximum number of different tickets).\n",
    "   - The function should print information about the probability of winning the big prize depending on the number of different tickets played.\n",
    "   \n",
    "Our function will be called `multi_ticket_probability()` which takes number of tickets user intends to play and prints the probablity of winning\n"
   ]
  },
  {
   "cell_type": "code",
   "execution_count": 11,
   "metadata": {
    "collapsed": false
   },
   "outputs": [],
   "source": [
    "def multi_ticket_probability(n_tickets):    \n",
    "    n_combinations = combinations(49, 6)    \n",
    "    probability = n_tickets / n_combinations\n",
    "    print('''Your chances to win the big prize with {:,} different tickets are {:.6f}%.\n",
    "In other words, you have a 1 in {:,} chances to win and you will spend ${:0,.2f} buying tickets'''.format(n_tickets, probability * 100,\n",
    "                                                               round(n_combinations / n_tickets), n_tickets * ticket_price ))"
   ]
  },
  {
   "cell_type": "code",
   "execution_count": 12,
   "metadata": {
    "collapsed": false
   },
   "outputs": [
    {
     "name": "stdout",
     "output_type": "stream",
     "text": [
      "Your chances to win the big prize with 1 different tickets are 0.000007%.\n",
      "In other words, you have a 1 in 13,983,816 chances to win and you will spend $2.00 buying tickets\n",
      "------------------------\n",
      "Your chances to win the big prize with 10 different tickets are 0.000072%.\n",
      "In other words, you have a 1 in 1,398,382 chances to win and you will spend $20.00 buying tickets\n",
      "------------------------\n",
      "Your chances to win the big prize with 100 different tickets are 0.000715%.\n",
      "In other words, you have a 1 in 139,838 chances to win and you will spend $200.00 buying tickets\n",
      "------------------------\n",
      "Your chances to win the big prize with 10,000 different tickets are 0.071511%.\n",
      "In other words, you have a 1 in 1,398 chances to win and you will spend $20,000.00 buying tickets\n",
      "------------------------\n",
      "Your chances to win the big prize with 1,000,000 different tickets are 7.151124%.\n",
      "In other words, you have a 1 in 14 chances to win and you will spend $2,000,000.00 buying tickets\n",
      "------------------------\n",
      "Your chances to win the big prize with 6,991,908 different tickets are 50.000000%.\n",
      "In other words, you have a 1 in 2 chances to win and you will spend $13,983,816.00 buying tickets\n",
      "------------------------\n",
      "Your chances to win the big prize with 13,983,816 different tickets are 100.000000%.\n",
      "In other words, you have a 1 in 1 chances to win and you will spend $27,967,632.00 buying tickets\n",
      "------------------------\n"
     ]
    }
   ],
   "source": [
    "test_inputs = [1, 10, 100, 10000, 1000000, 6991908, 13983816]\n",
    "\n",
    "for test_input in test_inputs:\n",
    "    multi_ticket_probability(test_input)\n",
    "    print('------------------------') # output delimiter"
   ]
  },
  {
   "cell_type": "markdown",
   "metadata": {},
   "source": [
    "## Small prize winning numbers function\n",
    "\n",
    "We will not concentrate on small prizes that the users can win. We're going to write one more function to allow the users to calculate probabilities for two, three, four, or five winning numbers.\n",
    "\n",
    "For extra context, in most 6/49 lotteries there are smaller prizes if a player's ticket match two, three, four, or five of the six numbers drawn. As a consequence, the users might be interested in knowing the probability of having two, three, four, or five winning numbers.\n",
    "\n",
    "These are the engineering details we'll need to be aware of:\n",
    "\n",
    "   - Inside the app, the user inputs:\n",
    "      - six different numbers from 1 to 49; and\n",
    "      - an integer between 2 and 5 that represents the number of winning numbers expected\n",
    "   - Our function prints information about the probability of having the inputted number of winning numbers.\n",
    "   \n",
    "From our perspective the actual numbers choosen by the users are irrelevant. We only need to know the total count of numbers users has choosen. So we have informed the engineering team that we don't need to know the combination and all we need is count of winning numbers. We will define a function `probability_less_6()`"
   ]
  },
  {
   "cell_type": "code",
   "execution_count": 13,
   "metadata": {
    "collapsed": false
   },
   "outputs": [],
   "source": [
    "def probability_less_6(n_winning_numbers):\n",
    "    \n",
    "    n_combinations_ticket = combinations(6, n_winning_numbers)\n",
    "    n_combinations_remaining = combinations(49 - n_winning_numbers,\n",
    "                                           6 - n_winning_numbers)\n",
    "    successful_outcomes = n_combinations_ticket * n_combinations_remaining\n",
    "    n_combinations_total = combinations(49, 6)\n",
    "    \n",
    "    probability = successful_outcomes / n_combinations_total\n",
    "    probability_percentage = probability * 100\n",
    "    \n",
    "    combinations_simplified = round(n_combinations_total/successful_outcomes)\n",
    "    print('''Your chances of having {} winning numbers with this ticket are {:.6f}%.\n",
    "In other words, you have a 1 in {:,} chances to win.'''.format(n_winning_numbers, probability_percentage, int(combinations_simplified)))\n",
    "    \n",
    "    print(\"You will spend ${:0,.2f} if you want to cover {:0,.0f} combinations of {} numbers\".format(successful_outcomes*ticket_price, successful_outcomes, n_winning_numbers))"
   ]
  },
  {
   "cell_type": "code",
   "execution_count": 14,
   "metadata": {
    "collapsed": false
   },
   "outputs": [
    {
     "name": "stdout",
     "output_type": "stream",
     "text": [
      "Your chances of having 2 winning numbers with this ticket are 19.132653%.\n",
      "In other words, you have a 1 in 5 chances to win.\n",
      "You will spend $5,350,950.00 if you want to cover 2,675,475 combinations of 2 numbers\n",
      "--------------------------\n",
      "Your chances of having 3 winning numbers with this ticket are 2.171081%.\n",
      "In other words, you have a 1 in 46 chances to win.\n",
      "You will spend $607,200.00 if you want to cover 303,600 combinations of 3 numbers\n",
      "--------------------------\n",
      "Your chances of having 4 winning numbers with this ticket are 0.106194%.\n",
      "In other words, you have a 1 in 942 chances to win.\n",
      "You will spend $29,700.00 if you want to cover 14,850 combinations of 4 numbers\n",
      "--------------------------\n",
      "Your chances of having 5 winning numbers with this ticket are 0.001888%.\n",
      "In other words, you have a 1 in 52,969 chances to win.\n",
      "You will spend $528.00 if you want to cover 264 combinations of 5 numbers\n",
      "--------------------------\n"
     ]
    }
   ],
   "source": [
    "for test_input in [2, 3, 4, 5]:\n",
    "    probability_less_6(test_input)\n",
    "    print('--------------------------') # output delimiter"
   ]
  },
  {
   "cell_type": "markdown",
   "metadata": {},
   "source": [
    "## Conclusions and next step\n",
    "\n",
    "We managed to write four main functions for our app:\n",
    "\n",
    "   - `one_ticket_probability()` — calculates the probability of winning the big prize with a single ticket\n",
    "   - `check_historical_occurrence()` — checks whether a certain combination has occurred in the Canada lottery data set\n",
    "   - `multi_ticket_probability()` — calculates the probability for any number of of tickets between 1 and 13,983,816\n",
    "   - `probability_less_6()` — calculates the probability of having two, three, four or five winning numbers\n",
    "   \n",
    "Possible features for a second version of the app include:\n",
    "\n",
    "  - Making the outputs even easier to understand by adding fun analogies (for example, we can find probabilities for strange events and compare with the chances of winning in lottery; for instance, we can output something along the lines \"You are 100 times more likely to be the victim of a shark attack than winning the lottery\").\n",
    "  - Combining the one_ticket_probability() and check_historical_occurrence() to output information on probability and historical occurrence at the same time"
   ]
  },
  {
   "cell_type": "code",
   "execution_count": null,
   "metadata": {
    "collapsed": true
   },
   "outputs": [],
   "source": []
  }
 ],
 "metadata": {
  "kernelspec": {
   "display_name": "Python 3",
   "language": "python",
   "name": "python3"
  },
  "language_info": {
   "codemirror_mode": {
    "name": "ipython",
    "version": 3
   },
   "file_extension": ".py",
   "mimetype": "text/x-python",
   "name": "python",
   "nbconvert_exporter": "python",
   "pygments_lexer": "ipython3",
   "version": "3.4.3"
  }
 },
 "nbformat": 4,
 "nbformat_minor": 2
}
